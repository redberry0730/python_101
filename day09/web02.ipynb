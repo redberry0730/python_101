{
 "cells": [
  {
   "cell_type": "code",
   "execution_count": null,
   "metadata": {},
   "outputs": [],
   "source": [
    "!pip install requests"
   ]
  },
  {
   "cell_type": "markdown",
   "metadata": {},
   "source": [
    "### requests 모듈\n",
    "* http와 관련한 여러 가지 기능을 제공하는 외부 라이브러리\n",
    "* 웹 크롤링 시 홈페이지에 있는 정보를 가져올 때 사용함\n",
    "* http 요청을 하고 응답을 받아서 다양한 작업을 진행할 수 있음\n",
    "```\n",
    "https://www.anaconda.com/\n",
    "\n",
    " ㄴ 요청 (request)\n",
    "  \n",
    "    요청의 결과로 화면을 보여줌 - response (응답)\n",
    "```\n",
    "  * 특정 url을 url 이라는 변수에 저장함\n",
    "  * requests 모듈을 사용해서 <-- get() 함수 사용\n",
    "  * url에 입력한 주소를 get()함수를 사용해서 요청함\n",
    "  * result 라는 변수에 url 주솟값을 담음\n",
    "  * <Response [200]> : 정상적으로 잘 수행된다는 응답코드\n",
    "  * result.text라고 하면\n",
    "  * 실제로 html 안에 있는 code를 가져와서 확인함\n",
    "   \n",
    "```\n",
    "  http://www.tjoeun.co.kr/\n",
    "```\n",
    "  * requests 모듈을 사용해서 원하는 홈페이지에 \n",
    "  * http 요청을 보냈을 때 응답을 받거나\n",
    "  * 실제 홈페이지의 내용도 가지고 올 수 있음"
   ]
  },
  {
   "cell_type": "code",
   "execution_count": null,
   "metadata": {},
   "outputs": [],
   "source": [
    "import requests\n",
    "\n",
    "url = 'http://www.tjoeun.co.kr/'\n",
    "result = requests.get(url)\n",
    "print(result.text)\n"
   ]
  }
 ],
 "metadata": {
  "kernelspec": {
   "display_name": "Python 3",
   "language": "python",
   "name": "python3"
  },
  "language_info": {
   "codemirror_mode": {
    "name": "ipython",
    "version": 3
   },
   "file_extension": ".py",
   "mimetype": "text/x-python",
   "name": "python",
   "nbconvert_exporter": "python",
   "pygments_lexer": "ipython3",
   "version": "3.8.5"
  }
 },
 "nbformat": 4,
 "nbformat_minor": 4
}
