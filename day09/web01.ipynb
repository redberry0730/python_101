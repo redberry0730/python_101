{
 "cells": [
  {
   "cell_type": "code",
   "execution_count": 1,
   "metadata": {},
   "outputs": [],
   "source": [
    "import keyword"
   ]
  },
  {
   "cell_type": "code",
   "execution_count": 2,
   "metadata": {
    "scrolled": false
   },
   "outputs": [
    {
     "name": "stdout",
     "output_type": "stream",
     "text": [
      "['False', 'None', 'True', 'and', 'as', 'assert', 'async', 'await', 'break', 'class', 'continue', 'def', 'del', 'elif', 'else', 'except', 'finally', 'for', 'from', 'global', 'if', 'import', 'in', 'is', 'lambda', 'nonlocal', 'not', 'or', 'pass', 'raise', 'return', 'try', 'while', 'with', 'yield']\n"
     ]
    }
   ],
   "source": [
    "print(keyword.kwlist)"
   ]
  },
  {
   "cell_type": "markdown",
   "metadata": {},
   "source": [
    "# 제목 1 \n",
    "## 제목 2\n",
    "### 제목 3\n",
    "#### 제목 4\n",
    "##### 제목 5\n",
    "###### 제목 6\n",
    "\n"
   ]
  },
  {
   "cell_type": "markdown",
   "metadata": {},
   "source": [
    "# 파이썬 주말반\n",
    "### Anaconda 실습\n",
    "\n",
    "## Markdown (마크다운)\n",
    "\n",
    "* code 와 설명문을 같이 작성할 수 있음\n",
    "* 문서화할 수 있음\n",
    "\n",
    "* 쥬피터노트북\n",
    "\n",
    "  * ESC 키를 누르고 b 를 누르면 아래에 셀이 추가됨\n",
    "  * ESC 키를 누르고 a 를 누르면 위에 셀이 추가됨\n",
    "  * ESC 키를 누르고 d 를 연속으로 두 번 누르면 위에 셀이 삭제됨\n",
    "  * ESC 키를 누르고 m 을 누르면 markdown 셀로 됨\n",
    "  * ESC 키를 누르고 y 을 누르면 code 셀로 됨\n",
    "  * Shift + Enter 를 누르면 현재 셀이 실행되고\n",
    "  * 다음 셀이 만들어지면서 커서가 다음 셀로 이동함\n",
    "  * Enter 를 누르면 다시 편집상태로 돌아옴\n",
    "  \n",
    "  * h 를 누르면 단축키를 볼 수 있음\n",
    "  * 실행시간이 오래 걸릴 때 중간에 멈추기\n",
    "  *  ㄴ interrupt the kernel 버튼을 누름 (Run 버튼 다음)\n",
    "  \n",
    "  ```\n",
    "   설명이 여러 줄로 될 때\n",
    "   줄바꿈으로 쓰려고 하는 경우\n",
    "  ```  \n",
    "  "
   ]
  },
  {
   "cell_type": "code",
   "execution_count": null,
   "metadata": {},
   "outputs": [],
   "source": [
    "num1 = 10\n",
    "str1 = \"33\"\n",
    "str(num1) + str1"
   ]
  }
 ],
 "metadata": {
  "kernelspec": {
   "display_name": "Python 3",
   "language": "python",
   "name": "python3"
  },
  "language_info": {
   "codemirror_mode": {
    "name": "ipython",
    "version": 3
   },
   "file_extension": ".py",
   "mimetype": "text/x-python",
   "name": "python",
   "nbconvert_exporter": "python",
   "pygments_lexer": "ipython3",
   "version": "3.8.5"
  }
 },
 "nbformat": 4,
 "nbformat_minor": 4
}
