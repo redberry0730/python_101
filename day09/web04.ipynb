{
 "cells": [
  {
   "cell_type": "markdown",
   "metadata": {},
   "source": [
    "### requests 모듈을 사용해서 naver datalab 페이지 불러오기\n",
    "\n",
    "* 가져온 내용 중에서 원하는 데이터만 추출하기 위해서\n",
    "* 데이터의 규칙을 찾아야 함\n",
    "* 원하는 날짜의 데이터의 위치를 찾는 규칙을 찾아오면\n",
    "*                               class='title_cell\n",
    "* 날짜의 검색어 내용을 가져올 수 있음\n",
    "\n",
    "\n",
    "### 필요한 데이터 추출하기\n",
    "\n",
    "* 1) html_text 라는 변수에 가져온 값을 저장하고\n",
    "* print(html) 텍스트에 class가 title_cell로 된\n",
    "* 부분을 기준으로 분할(split)하도록 함\n",
    "* 2) class=\"keyword_rank\"가 나오기 전까지 다시 split 함\n",
    "* 가져온 부분에서 class=\"keyword_rank\"를 기준으로 첫 번째\n",
    "* 부분을 split 하여 가져오게 되면 부분만 자를 수 있음\n",
    "* 가져온 data 에서 keyword 만 찾도록\n",
    "* class=\"title\"인 것만 가져오고 불필요한 것들은 제거함\n",
    "* 가져온 data를 tmp1 변수에 저장하고\n",
    "* class=\"title\" 을 기준으로 split 해서 tmp2 에 저장함\n"
   ]
  },
  {
   "cell_type": "code",
   "execution_count": 3,
   "metadata": {},
   "outputs": [
    {
     "name": "stdout",
     "output_type": "stream",
     "text": [
      "원피스\n"
     ]
    }
   ],
   "source": [
    "import requests\n",
    "\n",
    "url = 'https://datalab.naver.com/'\n",
    "response = requests.get(url)\n",
    "html_text = response.text\n",
    "tmp1 = html_text.split('class=\"title_cell\"')[1].split('class=\"keyword_rank\">')[0]\n",
    "tmp2 = tmp1.split('<span class=\"title\">')\n",
    "print(tmp2[1].split('</span>')[0])\n",
    "\n"
   ]
  }
 ],
 "metadata": {
  "kernelspec": {
   "display_name": "Python 3",
   "language": "python",
   "name": "python3"
  },
  "language_info": {
   "codemirror_mode": {
    "name": "ipython",
    "version": 3
   },
   "file_extension": ".py",
   "mimetype": "text/x-python",
   "name": "python",
   "nbconvert_exporter": "python",
   "pygments_lexer": "ipython3",
   "version": "3.8.5"
  }
 },
 "nbformat": 4,
 "nbformat_minor": 4
}
