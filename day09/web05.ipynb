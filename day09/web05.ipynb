{
 "cells": [
  {
   "cell_type": "markdown",
   "metadata": {},
   "source": [
    "## urllib 모듈\n",
    "\n",
    "* http 요청과 관련된 파이썬 표준 모듈 (requests 모듈과 비슷함)\n",
    "\n",
    "* request : url 을 열고 읽는, http 요청과 과련된 하위 모듈\n",
    "* error   : request 모듈에서 발생하는 error들을 포함하는 모듈\n",
    "* parse   : url 주소를 파싱하는 모듈 - url 주소를 해석하고 조작함\n",
    "* robotparser : robot text 파일을 파싱함\n",
    "* geturl() 함수를 호출하면\n",
    "* 실제 요청한 홈페이지의 url주소를 확인할 수 있음\n",
    "* https://www.naver.com\n",
    "* getheaders() 함수를 호출하면\n",
    "* 해당 url 의 헤더 정보를 출력할 수 있음\n",
    "* read() 함수를 호출하면 홈페이지 내용을 가져올 수 있음\n",
    "* 하위 모듈 parse 에 있는 urlparse() 함수를 호출하면\n",
    "* url 구조에 맞도록 분리해서 보여줌\n",
    "* urlsplit() 함수를 호출하면 해당 url의 변경 작업을 할 수 있음"
   ]
  },
  {
   "cell_type": "code",
   "execution_count": 3,
   "metadata": {},
   "outputs": [
    {
     "name": "stdout",
     "output_type": "stream",
     "text": [
      "<http.client.HTTPResponse object at 0x00000231C49CAF70>\n",
      "https://www.naver.com\n",
      "ParseResult(scheme='https', netloc='www.naver.com', path='', params='', query='', fragment='')\n"
     ]
    }
   ],
   "source": [
    "import urllib\n",
    "\n",
    "url = 'https://www.naver.com'\n",
    "response = urllib.request.urlopen(url)\n",
    "print(response)\n",
    "'''\n",
    "응답객체가 생성됨\n",
    "<http.client.HTTPResponse object at 0x000002077AEF70A0>\n",
    "'''\n",
    "print(response.geturl()) # https://www.naver.com\n",
    "# print(response.getheaders())\n",
    "# print(response.read())\n",
    "\n",
    "parsing = urllib.parse.urlparse(url)\n",
    "print(parsing)\n",
    "\n",
    "\n",
    "\n"
   ]
  }
 ],
 "metadata": {
  "kernelspec": {
   "display_name": "Python 3",
   "language": "python",
   "name": "python3"
  },
  "language_info": {
   "codemirror_mode": {
    "name": "ipython",
    "version": 3
   },
   "file_extension": ".py",
   "mimetype": "text/x-python",
   "name": "python",
   "nbconvert_exporter": "python",
   "pygments_lexer": "ipython3",
   "version": "3.8.5"
  }
 },
 "nbformat": 4,
 "nbformat_minor": 4
}
