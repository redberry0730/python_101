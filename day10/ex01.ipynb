{
 "cells": [
  {
   "cell_type": "markdown",
   "metadata": {},
   "source": [
    "### - ndarray -\n",
    "\n"
   ]
  },
  {
   "cell_type": "code",
   "execution_count": 3,
   "metadata": {},
   "outputs": [
    {
     "name": "stdout",
     "output_type": "stream",
     "text": [
      "[(1, 4), (2, 5), (3, 6)]\n",
      "[5, 7, 9]\n"
     ]
    }
   ],
   "source": [
    "import numpy as np\n",
    "\n",
    "A = [1, 2, 3]\n",
    "B = [4, 5, 6]\n",
    "C = []\n",
    "\n",
    "print(list(zip(A, B))) \n",
    "# [(1, 4), (2, 5), (3, 6)]\n",
    "\n",
    "for a, b in zip(A, B):\n",
    "    C.append(a + b)\n",
    "    \n",
    "print(C)    \n",
    "\n"
   ]
  },
  {
   "cell_type": "code",
   "execution_count": 6,
   "metadata": {},
   "outputs": [
    {
     "name": "stdout",
     "output_type": "stream",
     "text": [
      "[[1, 2, 3, 4], [1, 2, 3, 4]]\n",
      "[[1 2 3 4]\n",
      " [1 2 3 4]]\n"
     ]
    }
   ],
   "source": [
    "a = [[1, 2, 3, 4] for _ in range(1000000)]\n",
    "b = np.array(a)\n",
    "\n",
    "def exchange_list(a):\n",
    "    c = []\n",
    "    for x in a:\n",
    "        x[2], x[3], x[0], x[1] = x\n",
    "        c.append(x)      \n",
    "    return c\n",
    "\n",
    "def exchange_ndarray(a):\n",
    "    return a[ : , [2, 3, 0, 1]]\n",
    "                 \n",
    "print(a[:2], b[:2], sep='\\n')                 "
   ]
  },
  {
   "cell_type": "markdown",
   "metadata": {},
   "source": [
    "## ndarray 생성하기 np.array()"
   ]
  },
  {
   "cell_type": "code",
   "execution_count": 7,
   "metadata": {},
   "outputs": [
    {
     "name": "stdout",
     "output_type": "stream",
     "text": [
      "list1 : [1, 2, 3]\n",
      "list1 type : <class 'list'>\n"
     ]
    }
   ],
   "source": [
    "list1 = [1, 2, 3]\n",
    "print('list1 :',list1)\n",
    "print('list1 type :',type(list1))"
   ]
  },
  {
   "cell_type": "code",
   "execution_count": 8,
   "metadata": {},
   "outputs": [
    {
     "name": "stdout",
     "output_type": "stream",
     "text": [
      "array1 : [1 2 3]\n",
      "array1 type : <class 'numpy.ndarray'>\n"
     ]
    }
   ],
   "source": [
    "array1 = np.array(list1)\n",
    "print('array1 :',array1)\n",
    "print('array1 type :',type(array1))"
   ]
  },
  {
   "cell_type": "markdown",
   "metadata": {},
   "source": [
    "### ndarray 의 shape(형태), dimension(차원)"
   ]
  },
  {
   "cell_type": "code",
   "execution_count": 12,
   "metadata": {},
   "outputs": [
    {
     "name": "stdout",
     "output_type": "stream",
     "text": [
      "array1 type : <class 'numpy.ndarray'>\n",
      "array1 array 형태 : (3,)\n",
      "array2 type : <class 'numpy.ndarray'>\n",
      "array2 array 형태 : (2, 3)\n",
      "array3 type : <class 'numpy.ndarray'>\n",
      "array3 array 형태 : (1, 3)\n"
     ]
    }
   ],
   "source": [
    "array1 = np.array([1, 2, 3])\n",
    "print('array1 type :',type(array1))\n",
    "print('array1 array 형태 :',array1.shape)\n",
    "\n",
    "array2 = np.array([[1, 2, 3],\n",
    "                   [2, 3, 4]])\n",
    "print('array2 type :',type(array2))\n",
    "print('array2 array 형태 :',array2.shape)\n",
    "\n",
    "array3 = np.array([[1, 2, 3]])\n",
    "print('array3 type :',type(array3))\n",
    "print('array3 array 형태 :',array3.shape)"
   ]
  },
  {
   "cell_type": "code",
   "execution_count": 13,
   "metadata": {},
   "outputs": [
    {
     "name": "stdout",
     "output_type": "stream",
     "text": [
      "array1: 1차원, array2: 2차원, array3:  2차원\n"
     ]
    }
   ],
   "source": [
    "print('array1: {:0}차원, array2: {:1}차원, array3: {:2}차원'.\n",
    "     format(array1.ndim, array2.ndim, array3.ndim))"
   ]
  },
  {
   "cell_type": "markdown",
   "metadata": {},
   "source": [
    "* ndarray 데이터 값 타입"
   ]
  },
  {
   "cell_type": "code",
   "execution_count": 16,
   "metadata": {},
   "outputs": [
    {
     "name": "stdout",
     "output_type": "stream",
     "text": [
      "<class 'list'>\n",
      "<class 'numpy.ndarray'>\n",
      "[1 2 3] int32\n",
      "['1' '2' 'numpy test'] <U11\n",
      "[1. 2. 3.] float64\n"
     ]
    }
   ],
   "source": [
    "list1 = [1, 2, 3]\n",
    "print(type(list1))\n",
    "\n",
    "array1 = np.array(list1)\n",
    "print(type(array1))\n",
    "print(array1, array1.dtype)\n",
    "\n",
    "list2 = [1, 2, 'numpy test']\n",
    "array2 = np.array(list2)\n",
    "print(array2, array2.dtype)\n",
    "\n",
    "list3 = [1, 2, 3.0]\n",
    "array3 = np.array(list3)\n",
    "print(array3, array3.dtype)\n",
    "'''\n",
    "['1' '2' 'numpy test'] <U11 : 문자열타입\n",
    "[1. 2. 3.] float64\n",
    "'''"
   ]
  },
  {
   "cell_type": "markdown",
   "metadata": {},
   "source": [
    "* astype() 사용해서 type 변환하기"
   ]
  },
  {
   "cell_type": "code",
   "execution_count": 20,
   "metadata": {},
   "outputs": [
    {
     "name": "stdout",
     "output_type": "stream",
     "text": [
      "[1 2 3] int32\n",
      "[1. 2. 3.] float64\n",
      "[1 2 3] int32\n",
      "[1 2 3] int32\n"
     ]
    }
   ],
   "source": [
    "array_int = np.array([1, 2, 3])\n",
    "print(array_int, array_int.dtype)\n",
    "array_float = array_int.astype('float64')\n",
    "print(array_float, array_float.dtype)\n",
    "\n",
    "array_int1 = array_float.astype('int32')\n",
    "print(array_int1, array_int1.dtype)\n",
    "\n",
    "array_float1 = np.array([1.1, 2.1, 3.1])\n",
    "array_int2 = array_float.astype('int32')\n",
    "print(array_int2, array_int2.dtype)"
   ]
  },
  {
   "cell_type": "markdown",
   "metadata": {},
   "source": [
    "* adarray 에서 axix 기반의 연산함수 수행하기"
   ]
  },
  {
   "cell_type": "code",
   "execution_count": 26,
   "metadata": {},
   "outputs": [
    {
     "name": "stdout",
     "output_type": "stream",
     "text": [
      "15\n",
      "[3 5 7]\n",
      "[6 9]\n"
     ]
    }
   ],
   "source": [
    "array2 = np.array([[1, 2, 3],\n",
    "                 [2, 3, 4]])\n",
    "\n",
    "print(array2.sum())\n",
    "print(array2.sum(axis=0)) # axis=0 : 행방향 (행끼리 연산)\n",
    "print(array2.sum(axis=1)) # axis=1 : 열방향 (열끼리 연산)"
   ]
  },
  {
   "cell_type": "markdown",
   "metadata": {},
   "source": [
    "* adarray 생성하기 - aragne, zeros, ones"
   ]
  },
  {
   "cell_type": "code",
   "execution_count": 27,
   "metadata": {},
   "outputs": [
    {
     "name": "stdout",
     "output_type": "stream",
     "text": [
      "[0 1 2 3 4 5 6 7 8 9]\n",
      "int32 (10,)\n"
     ]
    }
   ],
   "source": [
    "sequence_array = np.arange(10)\n",
    "print(sequence_array)\n",
    "print(sequence_array.dtype,sequence_array.shape)"
   ]
  },
  {
   "cell_type": "code",
   "execution_count": 29,
   "metadata": {},
   "outputs": [
    {
     "name": "stdout",
     "output_type": "stream",
     "text": [
      "[[0 0]\n",
      " [0 0]\n",
      " [0 0]]\n",
      "int32 (3, 2)\n"
     ]
    }
   ],
   "source": [
    "zero_array = np.zeros((3, 2), dtype='int32')\n",
    "print(zero_array)\n",
    "print(zero_array.dtype, zero_array.shape)"
   ]
  },
  {
   "cell_type": "code",
   "execution_count": 30,
   "metadata": {},
   "outputs": [
    {
     "name": "stdout",
     "output_type": "stream",
     "text": [
      "[[1. 1.]\n",
      " [1. 1.]\n",
      " [1. 1.]]\n",
      "float64 (3, 2)\n"
     ]
    }
   ],
   "source": [
    "one_array = np.ones((3, 2))\n",
    "print(one_array)\n",
    "print(one_array.dtype, one_array.shape)"
   ]
  },
  {
   "cell_type": "markdown",
   "metadata": {},
   "source": [
    "* ndarray 의 shape 변경하기 - reshape()"
   ]
  },
  {
   "cell_type": "code",
   "execution_count": 37,
   "metadata": {},
   "outputs": [
    {
     "name": "stdout",
     "output_type": "stream",
     "text": [
      "array1 :\n",
      " [0 1 2 3 4 5 6 7 8 9]\n",
      "array1 dtype : int32\n",
      "array1 shape : (10,)\n",
      "-------------------------\n",
      "array2 :\n",
      " [[0 1 2 3 4]\n",
      " [5 6 7 8 9]]\n",
      "array2 dtype : int32\n",
      "array2 shape : (2, 5)\n"
     ]
    }
   ],
   "source": [
    "array1 = np.arange(10)\n",
    "print('array1 :\\n',array1)\n",
    "print('array1 dtype :',array1.dtype)\n",
    "print('array1 shape :',array1.shape)\n",
    "print(\"-------------------------\")\n",
    "\n",
    "array2 = array1.reshape(2, 5)\n",
    "print('array2 :\\n',array2)\n",
    "print('array2 dtype :',array2.dtype)\n",
    "print('array2 shape :',array2.shape)"
   ]
  },
  {
   "cell_type": "code",
   "execution_count": 38,
   "metadata": {},
   "outputs": [
    {
     "name": "stdout",
     "output_type": "stream",
     "text": [
      "array3 :\n",
      " [[0 1]\n",
      " [2 3]\n",
      " [4 5]\n",
      " [6 7]\n",
      " [8 9]]\n",
      "array3 dtype : int32\n",
      "array3 shape : (5, 2)\n"
     ]
    }
   ],
   "source": [
    "array3 = array1.reshape(5, 2)\n",
    "print('array3 :\\n',array3)\n",
    "print('array3 dtype :',array3.dtype)\n",
    "print('array3 shape :',array3.shape)"
   ]
  },
  {
   "cell_type": "code",
   "execution_count": 40,
   "metadata": {},
   "outputs": [],
   "source": [
    "# array1.reshape(4, 3)\n",
    "# ValueError: cannot reshape array of size 10 into shape (4,3)\n",
    "# 변환할 수 없는 shape 구조를 입력하면 오류 발생함"
   ]
  },
  {
   "cell_type": "markdown",
   "metadata": {},
   "source": [
    "* reshape() 에 -1 인자값을 넣으면 \n",
    "* 특정 차원으로 고정된 가변적인 ndarray 형태 변환"
   ]
  },
  {
   "cell_type": "code",
   "execution_count": 44,
   "metadata": {},
   "outputs": [
    {
     "name": "stdout",
     "output_type": "stream",
     "text": [
      "[0 1 2 3 4 5 6 7 8 9]\n",
      "array2 shape : (2, 5)\n",
      "array2 :\n",
      " [[0 1 2 3 4]\n",
      " [5 6 7 8 9]]\n",
      "array3 shape : (5, 2)\n",
      "array3 :\n",
      " [[0 1]\n",
      " [2 3]\n",
      " [4 5]\n",
      " [6 7]\n",
      " [8 9]]\n"
     ]
    }
   ],
   "source": [
    "array1 = np.arange(10)\n",
    "print(array1)\n",
    "\n",
    "# 컬럼 axis 크기는 5로 고정하고\n",
    "# 로우 axis 크기를 이에 맞추어 자동으로 변환함 <-  2 X 5\n",
    "array2 = array1.reshape(-1, 5)\n",
    "print('array2 shape :',array2.shape)\n",
    "print('array2 :\\n',array2)\n",
    "\n",
    "\n",
    "# 로우 axis 크기는 5로 고정하고\n",
    "# 컬럼 axis 크기를 이에 맞추어 자동으로 변환함 <-  5 X 2\n",
    "array3 = array1.reshape(5, -1)\n",
    "print('array3 shape :',array3.shape)\n",
    "print('array3 :\\n',array3)"
   ]
  },
  {
   "cell_type": "code",
   "execution_count": 46,
   "metadata": {},
   "outputs": [],
   "source": [
    "# array3 = array1.reshape(4, -1)\n",
    "# ValueError: cannot reshape array of size 10 into shape (4,newaxis)\n",
    "# 변환할 수 없는 shape 구조를 입력하면 오류 발생함"
   ]
  },
  {
   "cell_type": "markdown",
   "metadata": {},
   "source": [
    "* reshape() 는 (-1, 1), (-1) 과 같은 형태로 주로 사용함\n",
    "* 1차원 ndarray를 2차원으로\n",
    "* 또는 2차원 ndarray 를 1차원으로 변환할 때 사용함"
   ]
  },
  {
   "cell_type": "code",
   "execution_count": 51,
   "metadata": {},
   "outputs": [
    {
     "name": "stdout",
     "output_type": "stream",
     "text": [
      "[0 1 2 3 4]\n",
      "------------------------\n",
      "array_1to2 shape : (5, 1)\n",
      "array_1to2 :\n",
      " [[0]\n",
      " [1]\n",
      " [2]\n",
      " [3]\n",
      " [4]]\n",
      "------------------------\n",
      "array_2to1 shape : (5,)\n",
      "array_2to1 :\n",
      " [0 1 2 3 4]\n"
     ]
    }
   ],
   "source": [
    "array1 = np.arange(5)\n",
    "print(array1)\n",
    "print('------------------------')\n",
    "\n",
    "# 1차원 ndarray를 2차원으로 변환\n",
    "# 열을 1 열로 고정하면, 행은 5행이 됨 <- 5 X 1\n",
    "array_1to2 = array1.reshape(-1, 1)\n",
    "print('array_1to2 shape :',array_1to2.shape)\n",
    "print('array_1to2 :\\n',array_1to2)\n",
    "print('------------------------')\n",
    "\n",
    "# 2차원 ndarray를 1차원으로 변환\n",
    "array_2to1 = array_1to2.reshape(-1,)\n",
    "print('array_2to1 shape :',array_2to1.shape)\n",
    "print('array_2to1 :\\n',array_2to1)"
   ]
  },
  {
   "cell_type": "code",
   "execution_count": 56,
   "metadata": {},
   "outputs": [],
   "source": [
    "array1 = np.array(10)\n",
    "# array4 = array1.reshape(-1, 4)\n",
    "# ValueError: cannot reshape array of size 1 into shape (4)\n",
    "# 변환할 수 없는 shape 구조를 입력하면 오류 발생함\n",
    "# array4 = array1.reshape(-1, -1)\n",
    "# print('array4 :\\n',array4)\n",
    "# ValueError: can only specify one unknown dimension\n",
    "# -1은 반드시 하나만 입력해야 함"
   ]
  }
 ],
 "metadata": {
  "kernelspec": {
   "display_name": "Python 3",
   "language": "python",
   "name": "python3"
  },
  "language_info": {
   "codemirror_mode": {
    "name": "ipython",
    "version": 3
   },
   "file_extension": ".py",
   "mimetype": "text/x-python",
   "name": "python",
   "nbconvert_exporter": "python",
   "pygments_lexer": "ipython3",
   "version": "3.8.5"
  }
 },
 "nbformat": 4,
 "nbformat_minor": 4
}
