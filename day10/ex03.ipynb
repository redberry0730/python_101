{
 "cells": [
  {
   "cell_type": "markdown",
   "metadata": {},
   "source": [
    "### 배열의 정렬 - sort(), argsort()\n",
    "\n",
    "* Numpy sort() 유형\n",
    "* np.sort() : 원래의 행열은 유지하고 (immutable)\n",
    "* 원래의 행렬을 정렬해서 그 정렬된 행렬을 생성해서 반환함\n",
    "* ndarray.sort() : mutable : 원래의 행렬을 정렬함 - 반환값이 None\n",
    "* np.sort(), ndarray.sort() 모두 오름차순이 기본\n",
    "* 내림차순으로 정렬하려면 np.sort()[::-1] 과 같이 함\n",
    "```\n",
    "        | axis=1 ---> 열방향 정렬\n",
    " axis=0 | [[5, 15]\n",
    " 행방향 ↓ [6, 2]]\n",
    "```\n",
    "\n"
   ]
  },
  {
   "cell_type": "code",
   "execution_count": 3,
   "metadata": {},
   "outputs": [
    {
     "name": "stdout",
     "output_type": "stream",
     "text": [
      "[[ 5 15]\n",
      " [ 6  2]]\n",
      "[[ 5  2]\n",
      " [ 6 15]]\n",
      "[[ 5 15]\n",
      " [ 2  6]]\n"
     ]
    }
   ],
   "source": [
    "import numpy as np\n",
    "A = np.array([(5, 15),(6, 2)])\n",
    "print(A)\n",
    "'''\n",
    "[[ 5 15]\n",
    " [ 6  2]]\n",
    "'''\n",
    "A_axis0 = np.sort(A, axis=0)\n",
    "A_axis1 = np.sort(A, axis=1)\n",
    "\n",
    "print(A_axis0)  # 행(끼리)방향 정렬\n",
    "'''\n",
    "[[ 5  2]\n",
    " [ 6 15]]\n",
    "'''\n",
    "print(A_axis1)  # 열(끼리)방향 정렬\n",
    "'''\n",
    "[[ 5 15]\n",
    " [ 2  6]]\n",
    "'''"
   ]
  },
  {
   "cell_type": "markdown",
   "metadata": {},
   "source": [
    "###  argsort()\n",
    "* 원래의 행렬 정렬시 정렬된 행렬의 원래의 index를 필요로 할 때\n",
    "* np.argsort() 를 사용함\n",
    "* np.argsort() 는 정렬된 행렬의 원래 행렬의 index를 \n",
    "* ndarray 형(type)[배열]으로 반환함\n",
    "* -----------------------------------------------------\n",
    "* [5, 2, 8, 4]  --  [2, 4, 5, 8]  --  1  3  2  0\n",
    "*  0  1  2  3        1  3  2  0"
   ]
  },
  {
   "cell_type": "code",
   "execution_count": 13,
   "metadata": {},
   "outputs": [
    {
     "name": "stdout",
     "output_type": "stream",
     "text": [
      "np.sort()하기 전 원래의 행렬 : [5 2 8 4]\n",
      "정렬된 행렬(np.sort()) : [2 4 5 8]\n",
      "---- np.sort() 로 정렬 후 : immutable ----\n",
      "원래의 행렬 : [5 2 8 4]\n",
      "---------------------------------------------------------\n",
      "original_array.sort()하기 전 원래의 행렬 : [5 2 8 4]\n",
      "정렬된 행렬(original_array.sort()) : None\n",
      "---- ndarray.sort() 로 정렬 후 : mutable ----\n",
      "원래의 행렬 : [2 4 5 8]\n"
     ]
    }
   ],
   "source": [
    "original_array = np.array([5, 2, 8, 4])\n",
    "print('np.sort()하기 전 원래의 행렬 :',original_array) # [5 2 8 4]\n",
    "\n",
    "# np.sort() 로 정렬하기\n",
    "sort_array1 = np.sort(original_array)\n",
    "print('정렬된 행렬(np.sort()) :',sort_array1) # [2 4 5 8]\n",
    "print('---- np.sort() 로 정렬 후 : immutable ----')\n",
    "print('원래의 행렬 :',original_array)\n",
    "print('---------------------------------------------------------')\n",
    "\n",
    "# ndarray.sort() 로 정렬하기\n",
    "print('original_array.sort()하기 전 원래의 행렬 :',original_array)\n",
    "sort_array2 = original_array.sort() # return 값이 없음 (None)\n",
    "print('정렬된 행렬(original_array.sort()) :',sort_array2) # [2 4 5 8]\n",
    "print('---- ndarray.sort() 로 정렬 후 : mutable ----')\n",
    "print('원래의 행렬 :',original_array)\n",
    "\n"
   ]
  },
  {
   "cell_type": "markdown",
   "metadata": {},
   "source": [
    "* 내림차순 정렬"
   ]
  },
  {
   "cell_type": "code",
   "execution_count": null,
   "metadata": {},
   "outputs": [],
   "source": [
    "sort_array1_descending = np.sort(original_array)[::-1]\n",
    "print(sort_array1_descending)"
   ]
  },
  {
   "cell_type": "markdown",
   "metadata": {},
   "source": [
    "* row(행)방향 정렬 : axis=0\n",
    "* column(열)방향 정렬 : axis=1"
   ]
  },
  {
   "cell_type": "code",
   "execution_count": 20,
   "metadata": {},
   "outputs": [
    {
     "name": "stdout",
     "output_type": "stream",
     "text": [
      "행방향(행끼리) 정렬 :\n",
      " [[ 6  1]\n",
      " [ 8 13]]\n",
      "열방향(열끼리) 정렬 :\n",
      " [[ 8 13]\n",
      " [ 1  6]]\n"
     ]
    }
   ],
   "source": [
    "array2d = np.array([[8, 13],[6, 1]])\n",
    "print('행방향(행끼리) 정렬 :\\n',np.sort(array2d,axis=0))\n",
    "print('열방향(열끼리) 정렬 :\\n',np.sort(array2d,axis=1))"
   ]
  },
  {
   "cell_type": "code",
   "execution_count": 22,
   "metadata": {},
   "outputs": [
    {
     "name": "stdout",
     "output_type": "stream",
     "text": [
      "[1 3 5 9]\n",
      "<class 'numpy.ndarray'>\n",
      "행렬 정렬시 원래 행렬의 인덱스 : [1 0 3 2]\n"
     ]
    }
   ],
   "source": [
    "original_array = np.array([3, 1, 9, 5])\n",
    "print(np.sort(original_array))\n",
    "\n",
    "sort_indices = np.argsort(original_array)\n",
    "print(type(sort_indices))\n",
    "print('행렬 정렬시 원래 행렬의 인덱스 :', sort_indices)"
   ]
  },
  {
   "cell_type": "code",
   "execution_count": 24,
   "metadata": {},
   "outputs": [
    {
     "name": "stdout",
     "output_type": "stream",
     "text": [
      "[9 5 3 1]\n",
      "<class 'numpy.ndarray'>\n",
      "행렬 내림차순 정렬시 원래 행렬의 인덱스 : [2 3 0 1]\n"
     ]
    }
   ],
   "source": [
    "original_array = np.array([3, 1, 9, 5])\n",
    "print(np.sort(original_array)[::-1])  # 내림차순\n",
    "\n",
    "sort_indices_descending = np.argsort(original_array)[::-1]\n",
    "print(type(sort_indices_descending))\n",
    "print('행렬 내림차순 정렬시 원래 행렬의 인덱스 :', sort_indices_descending)"
   ]
  },
  {
   "cell_type": "markdown",
   "metadata": {},
   "source": [
    "* key-value 형태의 데이터를\n",
    "* marry=82, paul=92, jeniffer=86, david=99, hose=84 로 만들고\n",
    "* argsort()를 사용해서 key값을 정렬하기\n",
    "\n",
    "* score_array 의 정렬된 값에 해당하는 원래의 행렬위치 index를 반환하고\n",
    "* name_array 에서 name 값 추출하기\n"
   ]
  },
  {
   "cell_type": "code",
   "execution_count": 29,
   "metadata": {},
   "outputs": [
    {
     "name": "stdout",
     "output_type": "stream",
     "text": [
      "sort_indices :  [0 4 2 1 3]\n",
      "['mary' 'hose' 'jeniffer' 'paul' 'david']\n",
      "[82 84 86 92 99]\n"
     ]
    }
   ],
   "source": [
    "name_array = np.array(['mary','paul','jeniffer','david','hose'])\n",
    "score_array = np.array([82,92,86,99,84])\n",
    "\n",
    "# score_array 의 정렬된 값에 해당하는 원래의 행렬위치 index를 반환하고\n",
    "# name_array 에서 name 값 추출하기\n",
    "\n",
    "sort_indices = np.argsort(score_array)\n",
    "print('sort_indices : ',sort_indices) #  [0 4 2 1 3]\n",
    "\n",
    "name_array_sort = name_array[sort_indices]\n",
    "\n",
    "score_array_sort = score_array[sort_indices]\n",
    "\n",
    "print(name_array_sort)\n",
    "print(score_array_sort)\n",
    "\n",
    "\n"
   ]
  }
 ],
 "metadata": {
  "kernelspec": {
   "display_name": "Python 3",
   "language": "python",
   "name": "python3"
  },
  "language_info": {
   "codemirror_mode": {
    "name": "ipython",
    "version": 3
   },
   "file_extension": ".py",
   "mimetype": "text/x-python",
   "name": "python",
   "nbconvert_exporter": "python",
   "pygments_lexer": "ipython3",
   "version": "3.8.5"
  }
 },
 "nbformat": 4,
 "nbformat_minor": 4
}
