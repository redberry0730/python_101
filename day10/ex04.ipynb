{
 "cells": [
  {
   "cell_type": "markdown",
   "metadata": {},
   "source": [
    "### 선형대수 연산 - 행렬 내적 : 행렬곱\n",
    "\n",
    "* 행렬 내적\n",
    "* np.dot(A, B)\n",
    "\n",
    "\n"
   ]
  },
  {
   "cell_type": "code",
   "execution_count": 4,
   "metadata": {
    "scrolled": true
   },
   "outputs": [
    {
     "name": "stdout",
     "output_type": "stream",
     "text": [
      "[[1 2 3]\n",
      " [4 5 6]]\n",
      "[[ 7  8]\n",
      " [ 9 10]\n",
      " [11 12]]\n"
     ]
    },
    {
     "data": {
      "text/plain": [
       "array([[ 58,  64],\n",
       "       [139, 154]])"
      ]
     },
     "execution_count": 4,
     "metadata": {},
     "output_type": "execute_result"
    }
   ],
   "source": [
    "import numpy as np\n",
    "\n",
    "A = np.array([[1, 2, 3],[4, 5, 6]])\n",
    "B = np.array([[7, 8],[9, 10],[11, 12]])\n",
    "\n",
    "print(A)\n",
    "print(B)\n",
    "\n",
    "np.dot(A, B)\n",
    "'''\n",
    "[[1 2 3]\n",
    " [4 5 6]]\n",
    "[[ 7  8]\n",
    " [ 9 10]\n",
    " [11 12]]\n",
    "array([[ 58,  64],\n",
    "       [139, 154]])\n",
    "'''"
   ]
  },
  {
   "cell_type": "markdown",
   "metadata": {},
   "source": [
    "* 전치 행렬\n",
    "* 행과 열을 교환해서 얻어지는 행렬\n"
   ]
  },
  {
   "cell_type": "code",
   "execution_count": 10,
   "metadata": {},
   "outputs": [
    {
     "name": "stdout",
     "output_type": "stream",
     "text": [
      "A :\n",
      " [[1 2]\n",
      " [3 4]]\n",
      "A_t :\n",
      " [[1 3]\n",
      " [2 4]]\n",
      "A_t_t :\n",
      " [[1 2]\n",
      " [3 4]]\n",
      "------------------\n",
      "B :\n",
      " [[1 2]\n",
      " [3 4]\n",
      " [5 6]]\n",
      "B_t :\n",
      " [[1 3 5]\n",
      " [2 4 6]]\n",
      "B_t_t :\n",
      " [[1 2]\n",
      " [3 4]\n",
      " [5 6]]\n",
      "------------------\n"
     ]
    }
   ],
   "source": [
    "A = np.array([[1, 2],[3, 4]])\n",
    "B = np.array([[1, 2],[3, 4], [5, 6]])\n",
    "\n",
    "print('A :\\n',A)\n",
    "A_t = np.transpose(A)\n",
    "print('A_t :\\n',A_t)\n",
    "A_t_t = np.transpose(A_t)\n",
    "print('A_t_t :\\n',A_t_t)\n",
    "print(\"------------------\")\n",
    "\n",
    "print('B :\\n',B)\n",
    "B_t = np.transpose(B)\n",
    "print('B_t :\\n',B_t)\n",
    "B_t_t = np.transpose(B_t)\n",
    "print('B_t_t :\\n',B_t_t)\n",
    "print(\"------------------\")"
   ]
  }
 ],
 "metadata": {
  "kernelspec": {
   "display_name": "Python 3",
   "language": "python",
   "name": "python3"
  },
  "language_info": {
   "codemirror_mode": {
    "name": "ipython",
    "version": 3
   },
   "file_extension": ".py",
   "mimetype": "text/x-python",
   "name": "python",
   "nbconvert_exporter": "python",
   "pygments_lexer": "ipython3",
   "version": "3.8.5"
  }
 },
 "nbformat": 4,
 "nbformat_minor": 4
}
