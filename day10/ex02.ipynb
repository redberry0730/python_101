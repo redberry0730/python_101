{
 "cells": [
  {
   "cell_type": "markdown",
   "metadata": {},
   "source": [
    "## ndarray의 data set  선택하기  - indexing\n",
    "* 특정 위치의 단일값 추출하기"
   ]
  },
  {
   "cell_type": "code",
   "execution_count": 8,
   "metadata": {},
   "outputs": [
    {
     "name": "stdout",
     "output_type": "stream",
     "text": [
      "array1 : [1 2 3 4 5 6 7 8 9]\n",
      "value : 3\n",
      "type(value) : <class 'numpy.int32'>\n",
      "맨 마지막 값 : 9 , 마지막에서 두 번째 값 : 8\n",
      "array1 : [9 2 3 4 5 6 7 0 9]\n"
     ]
    }
   ],
   "source": [
    "import numpy as np\n",
    "\n",
    "array1 = np.arange(start=1, stop=10)\n",
    "print('array1 :',array1)\n",
    "\n",
    "value = array1[2]\n",
    "print('value :',value)\n",
    "print('type(value) :',type(value))\n",
    "\n",
    "print('맨 마지막 값 :',array1[-1],', 마지막에서 두 번째 값 :',array1[-2])\n",
    "\n",
    "\n",
    "array1[0] = 9\n",
    "array1[7] = 0\n",
    "print('array1 :',array1)\n",
    "\n",
    "\n",
    "\n"
   ]
  },
  {
   "cell_type": "code",
   "execution_count": 10,
   "metadata": {},
   "outputs": [
    {
     "name": "stdout",
     "output_type": "stream",
     "text": [
      "[[1 2 3]\n",
      " [4 5 6]\n",
      " [7 8 9]]\n",
      "(row=0,col=0) index 가 가리키는 값 : 1\n",
      "(row=0,col=1) index 가 가리키는 값 : 2\n",
      "(row=1,col=0) index 가 가리키는 값 : 4\n",
      "(row=1,col=1) index 가 가리키는 값 : 5\n"
     ]
    }
   ],
   "source": [
    "array1d = np.arange(start=1, stop=10)\n",
    "array2d = array1d.reshape(3, 3)\n",
    "print(array2d)\n",
    "\n",
    "print('(row=0,col=0) index 가 가리키는 값 :', array2d[0,0])\n",
    "print('(row=0,col=1) index 가 가리키는 값 :', array2d[0,1])\n",
    "print('(row=1,col=0) index 가 가리키는 값 :', array2d[1,0])\n",
    "print('(row=1,col=1) index 가 가리키는 값 :', array2d[1,1])"
   ]
  },
  {
   "cell_type": "markdown",
   "metadata": {},
   "source": [
    "* 슬라이싱 (slicing)"
   ]
  },
  {
   "cell_type": "code",
   "execution_count": 11,
   "metadata": {},
   "outputs": [
    {
     "name": "stdout",
     "output_type": "stream",
     "text": [
      "[1 2 3 4 5 6 7 8 9]\n",
      "[1 2 3]\n",
      "<class 'numpy.ndarray'>\n"
     ]
    }
   ],
   "source": [
    "array1 = np.arange(start=1, stop=10)\n",
    "print(array1)\n",
    "array3 = array1[0:3]\n",
    "print(array3)\n",
    "print(type(array3))"
   ]
  },
  {
   "cell_type": "code",
   "execution_count": 12,
   "metadata": {},
   "outputs": [
    {
     "name": "stdout",
     "output_type": "stream",
     "text": [
      "[2 3]\n",
      "[4 5 6 7 8 9]\n",
      "[1 2 3 4 5 6 7 8 9]\n"
     ]
    }
   ],
   "source": [
    "array1 = np.arange(start=1, stop=10)\n",
    "array4 = array1[1:3]\n",
    "print(array4)\n",
    "\n",
    "array5 = array1[3:]\n",
    "print(array5)\n",
    "\n",
    "array6 = array1[:]\n",
    "print(array6)\n",
    "\n"
   ]
  },
  {
   "cell_type": "code",
   "execution_count": 22,
   "metadata": {},
   "outputs": [
    {
     "name": "stdout",
     "output_type": "stream",
     "text": [
      "array2d :\n",
      " [[1 2 3]\n",
      " [4 5 6]\n",
      " [7 8 9]]\n",
      "array2d[0:2, 0:2] :\n",
      " [[1 2]\n",
      " [4 5]]\n",
      "array2d[1:3, 0:3] :\n",
      " [[4 5 6]\n",
      " [7 8 9]]\n",
      "array2d[1:3, :] :\n",
      " [[4 5 6]\n",
      " [7 8 9]]\n",
      "array2d[:, :] :\n",
      " [[1 2 3]\n",
      " [4 5 6]\n",
      " [7 8 9]]\n",
      "array2d[:2, 1:] :\n",
      " [[2 3]\n",
      " [5 6]]\n",
      "array2d[:2, 0] :\n",
      " [1 4]\n",
      "array2d[0, :2] :\n",
      " [1 2]\n",
      "array2d[:1, 0] :\n",
      " [1]\n",
      "array2d[:2, 0] :\n",
      " [1 4]\n",
      "array2d[:3, 0] :\n",
      " [1 4 7]\n",
      "array2d[:1, 1] :\n",
      " [2]\n",
      "array2d[:2, 1] :\n",
      " [2 5]\n",
      "array2d[:3, 1] :\n",
      " [2 5 8]\n",
      "array2d[:1, 2] :\n",
      " [3]\n",
      "array2d[:2, 2] :\n",
      " [3 6]\n",
      "array2d[:3, 2] :\n",
      " [3 6 9]\n"
     ]
    }
   ],
   "source": [
    "array1d = np.arange(start=1, stop=10)\n",
    "array2d = array1d.reshape(3, 3)\n",
    "print('array2d :\\n',array2d)\n",
    "\n",
    "print('array2d[0:2, 0:2] :\\n',array2d[0:2, 0:2])\n",
    "print('array2d[1:3, 0:3] :\\n',array2d[1:3, 0:3])\n",
    "print('array2d[1:3, :] :\\n',array2d[1:3, :])\n",
    "print('array2d[:, :] :\\n',array2d[:, :])\n",
    "print('array2d[:2, 1:] :\\n',array2d[:2, 1:])\n",
    "print('array2d[:2, 0] :\\n',array2d[:2, 0])\n",
    "print('array2d[0, :2] :\\n',array2d[0, :2])\n",
    "print('array2d[:1, 0] :\\n',array2d[:1, 0])\n",
    "print('array2d[:2, 0] :\\n',array2d[:2, 0])\n",
    "print('array2d[:3, 0] :\\n',array2d[:3, 0])\n",
    "print('array2d[:1, 1] :\\n',array2d[:1, 1])\n",
    "print('array2d[:2, 1] :\\n',array2d[:2, 1])\n",
    "print('array2d[:3, 1] :\\n',array2d[:3, 1])\n",
    "print('array2d[:1, 2] :\\n',array2d[:1, 2])\n",
    "print('array2d[:2, 2] :\\n',array2d[:2, 2])\n",
    "print('array2d[:3, 2] :\\n',array2d[:3, 2])"
   ]
  },
  {
   "cell_type": "markdown",
   "metadata": {},
   "source": [
    "* 팬시 인덱싱 (fancy indexing)\n",
    "* 리스트나 ndarray(배열) 로 인덱스 집합을 지정하면\n",
    "* 지정한 위치의 인덱스에 해당하는 ndarray를 반환함\n",
    "* "
   ]
  },
  {
   "cell_type": "code",
   "execution_count": 34,
   "metadata": {},
   "outputs": [
    {
     "name": "stdout",
     "output_type": "stream",
     "text": [
      "[[1 2 3]\n",
      " [4 5 6]\n",
      " [7 8 9]]\n",
      "-----------------\n",
      "[1 2 3 4 5 6 7 8 9]\n",
      "[3 5 8]\n",
      "[1 2 3 4 5 6 7 8 9]\n",
      "[1 2 0 4 0 6 7 0 9]\n",
      "[0 0 0]\n",
      "-----------------\n",
      "[3 6]\n",
      "[3 9]\n",
      "[6 9]\n",
      "[[1 2]\n",
      " [4 5]]\n",
      "[[1 2 3]\n",
      " [4 5 6]]\n"
     ]
    }
   ],
   "source": [
    "array1d = np.arange(start=1, stop=10)\n",
    "array2d = array1d.reshape(3, 3)\n",
    "print(array2d)\n",
    "\n",
    "print(\"-----------------\")\n",
    "print(array1d)\n",
    "print(array1d[[2, 4, 7]])\n",
    "array1d[[2, 4, 7]] = [3, 5, 8]\n",
    "print(array1d)\n",
    "array1d[[2, 4, 7]] = [0, 0, 0]\n",
    "print(array1d)\n",
    "print(array1d[[2, 4, 7]])\n",
    "print(\"-----------------\")\n",
    "\n",
    "\n",
    "# [1 2 3 4 5 6 7 8 9]\n",
    "array1d = np.arange(start=1, stop=10)\n",
    "\n",
    "'''\n",
    "[[1 2 3]\n",
    " [4 5 6]\n",
    " [7 8 9]]\n",
    "'''\n",
    "array2d = array1d.reshape(3, 3)\n",
    "\n",
    "print(array2d[[0,1], 2]) # [3 6]\n",
    "\n",
    "print(array2d[[0,2], 2]) # [3 9]\n",
    "\n",
    "print(array2d[[1,2], 2]) # [6 9]\n",
    "\n",
    "\n",
    "print(array2d[[0, 1], 0:2]) \n",
    "'''\n",
    "[[1 2]\n",
    " [4 5]]\n",
    "'''\n",
    "\n",
    "print(array2d[[0, 1]]) \n",
    "'''\n",
    "[[1 2 3]\n",
    " [4 5 6]]\n",
    "'''\n",
    "print(\"------------------------------------\")\n",
    "\n",
    "\n"
   ]
  },
  {
   "cell_type": "code",
   "execution_count": 39,
   "metadata": {},
   "outputs": [
    {
     "name": "stdout",
     "output_type": "stream",
     "text": [
      "[3 6]\n",
      "[3, 6]\n",
      "[[1 2]\n",
      " [4 5]]\n",
      "[[1, 2], [4, 5]]\n",
      "[[1 2 3]\n",
      " [4 5 6]]\n",
      "[[1, 2, 3], [4, 5, 6]]\n"
     ]
    }
   ],
   "source": [
    "array1d = np.arange(start=1, stop=10)\n",
    "# array1d : [1 2 3 4 5 6 7 8 9]\n",
    "array2d = array1d.reshape(3, 3)\n",
    "'''array2d : [[1 2 3]\n",
    "              [4 5 6]\n",
    "              [7 8 9]]\n",
    "''' \n",
    "array3 = array2d[[0,1], 2]\n",
    "print(array3) # [3 6]\n",
    "# tolist() : ndarray --> list\n",
    "print(array3.tolist()) # [3, 6]\n",
    "\n",
    "\n",
    "array4 = array2d[[0,1], 0:2]\n",
    "print(array4) \n",
    "'''\n",
    "[[1 2]\n",
    " [4 5]]\n",
    "'''\n",
    "# tolist() : ndarray --> list\n",
    "print(array4.tolist()) # [[1, 2], [4, 5]]\n",
    "\n",
    "array5 = array2d[[0,1]]\n",
    "print(array5)\n",
    "'''\n",
    "[[1 2 3]\n",
    " [4 5 6]]\n",
    "'''\n",
    "print(array5.tolist()) # [[1, 2, 3], [4, 5, 6]]\n",
    "\n"
   ]
  },
  {
   "cell_type": "markdown",
   "metadata": {},
   "source": [
    "* boolean indexing (불린(불리언) 인덱싱)\n",
    "* 조건 필터링과 검색을 동시에 할 수 있음 <-- 자주 사용함"
   ]
  },
  {
   "cell_type": "code",
   "execution_count": 45,
   "metadata": {},
   "outputs": [
    {
     "name": "stdout",
     "output_type": "stream",
     "text": [
      "[1 2 3 4 5 6 7 8 9]\n",
      "[6, 7, 8, 9]\n",
      "[6 7 8 9]\n",
      "[6 7 8 9]\n"
     ]
    }
   ],
   "source": [
    "array1d = np.arange(start=1, stop=10)\n",
    "print(array1d) # [1 2 3 4 5 6 7 8 9]\n",
    "\n",
    "# ndarray 내의 값이 5 보다 큰 ndarray 를 추출하는 경우\n",
    "result = []\n",
    "\n",
    "for i in range(0,9):\n",
    "    if array1d[i] > 5:\n",
    "        result.append(array1d[i])    \n",
    "print(result) # [6, 7, 8, 9]\n",
    "\n",
    "nd_result = np.array(result)\n",
    "print(nd_result) # [6 7 8 9]\n",
    "\n",
    "# boolean indexing : 5보다 큰 값 -  filtering\n",
    "array3 = array1d[array1d > 5]\n",
    "print(array3)  # [6 7 8 9]\n",
    "    \n",
    "\n"
   ]
  },
  {
   "cell_type": "code",
   "execution_count": 51,
   "metadata": {},
   "outputs": [
    {
     "name": "stdout",
     "output_type": "stream",
     "text": [
      "[False False False False False  True  True  True  True]\n",
      "[6 7 8 9]\n",
      "[6 7 8 9]\n"
     ]
    }
   ],
   "source": [
    "boolean_indexes = np.array([False, False, False, False, False, True, True, True, True])\n",
    "print(boolean_indexes)\n",
    "\n",
    "# array1d : [1 2 3 4 5 6 7 8 9]\n",
    "\n",
    "# 불리언 인덱스로 filtering함\n",
    "array5 = array1d[boolean_indexes]\n",
    "print(array5) # [6 7 8 9]\n",
    "\n",
    "# 일반 인덱스로 filtering함\n",
    "# 해당 index 번호의 data 만 filtering함\n",
    "indexes = np.array([5, 6, 7, 8])\n",
    "array6 = array1d[indexes]\n",
    "print(array6)\n"
   ]
  }
 ],
 "metadata": {
  "kernelspec": {
   "display_name": "Python 3",
   "language": "python",
   "name": "python3"
  },
  "language_info": {
   "codemirror_mode": {
    "name": "ipython",
    "version": 3
   },
   "file_extension": ".py",
   "mimetype": "text/x-python",
   "name": "python",
   "nbconvert_exporter": "python",
   "pygments_lexer": "ipython3",
   "version": "3.8.5"
  }
 },
 "nbformat": 4,
 "nbformat_minor": 4
}
